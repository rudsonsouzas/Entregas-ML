{
 "cells": [
  {
   "cell_type": "code",
   "execution_count": 1,
   "metadata": {},
   "outputs": [],
   "source": [
    "import pandas as pd\n",
    "import calendar\n",
    "import joblib\n",
    "\n",
    "diabetes = pd.read_csv(\"D:\\Pós Big Data\\Aprendizagem de Máquina\\diabetes.csv\", delimiter=',')"
   ]
  },
  {
   "cell_type": "code",
   "execution_count": 2,
   "metadata": {},
   "outputs": [
    {
     "name": "stdout",
     "output_type": "stream",
     "text": [
      "(768, 9)\n"
     ]
    }
   ],
   "source": [
    "# Exibe o número de linhas e o número de colunas\n",
    "print(diabetes.shape)"
   ]
  },
  {
   "cell_type": "code",
   "execution_count": 3,
   "metadata": {},
   "outputs": [],
   "source": [
    "# Divide os dados em dois conjuntos: Atributos e Classes\n",
    "attributes = diabetes.drop('class', axis=1)\n",
    "classes = diabetes['class']"
   ]
  },
  {
   "cell_type": "code",
   "execution_count": 4,
   "metadata": {},
   "outputs": [
    {
     "name": "stdout",
     "output_type": "stream",
     "text": [
      "     preg  plas  pres  skin  insu  mass   pedi  age\n",
      "0       6   148    72    35     0  33.6  0.627   50\n",
      "1       1    85    66    29     0  26.6  0.351   31\n",
      "2       8   183    64     0     0  23.3  0.672   32\n",
      "3       1    89    66    23    94  28.1  0.167   21\n",
      "4       0   137    40    35   168  43.1  2.288   33\n",
      "5       5   116    74     0     0  25.6  0.201   30\n",
      "6       3    78    50    32    88  31.0  0.248   26\n",
      "7      10   115     0     0     0  35.3  0.134   29\n",
      "8       2   197    70    45   543  30.5  0.158   53\n",
      "9       8   125    96     0     0   0.0  0.232   54\n",
      "10      4   110    92     0     0  37.6  0.191   30\n",
      "11     10   168    74     0     0  38.0  0.537   34\n",
      "12     10   139    80     0     0  27.1  1.441   57\n",
      "13      1   189    60    23   846  30.1  0.398   59\n",
      "14      5   166    72    19   175  25.8  0.587   51\n",
      "15      7   100     0     0     0  30.0  0.484   32\n",
      "16      0   118    84    47   230  45.8  0.551   31\n",
      "17      7   107    74     0     0  29.6  0.254   31\n",
      "18      1   103    30    38    83  43.3  0.183   33\n",
      "19      1   115    70    30    96  34.6  0.529   32\n",
      "20      3   126    88    41   235  39.3  0.704   27\n",
      "21      8    99    84     0     0  35.4  0.388   50\n",
      "22      7   196    90     0     0  39.8  0.451   41\n",
      "23      9   119    80    35     0  29.0  0.263   29\n",
      "24     11   143    94    33   146  36.6  0.254   51\n",
      "25     10   125    70    26   115  31.1  0.205   41\n",
      "26      7   147    76     0     0  39.4  0.257   43\n",
      "27      1    97    66    15   140  23.2  0.487   22\n",
      "28     13   145    82    19   110  22.2  0.245   57\n",
      "29      5   117    92     0     0  34.1  0.337   38\n",
      "..    ...   ...   ...   ...   ...   ...    ...  ...\n",
      "738     2    99    60    17   160  36.6  0.453   21\n",
      "739     1   102    74     0     0  39.5  0.293   42\n",
      "740    11   120    80    37   150  42.3  0.785   48\n",
      "741     3   102    44    20    94  30.8  0.400   26\n",
      "742     1   109    58    18   116  28.5  0.219   22\n",
      "743     9   140    94     0     0  32.7  0.734   45\n",
      "744    13   153    88    37   140  40.6  1.174   39\n",
      "745    12   100    84    33   105  30.0  0.488   46\n",
      "746     1   147    94    41     0  49.3  0.358   27\n",
      "747     1    81    74    41    57  46.3  1.096   32\n",
      "748     3   187    70    22   200  36.4  0.408   36\n",
      "749     6   162    62     0     0  24.3  0.178   50\n",
      "750     4   136    70     0     0  31.2  1.182   22\n",
      "751     1   121    78    39    74  39.0  0.261   28\n",
      "752     3   108    62    24     0  26.0  0.223   25\n",
      "753     0   181    88    44   510  43.3  0.222   26\n",
      "754     8   154    78    32     0  32.4  0.443   45\n",
      "755     1   128    88    39   110  36.5  1.057   37\n",
      "756     7   137    90    41     0  32.0  0.391   39\n",
      "757     0   123    72     0     0  36.3  0.258   52\n",
      "758     1   106    76     0     0  37.5  0.197   26\n",
      "759     6   190    92     0     0  35.5  0.278   66\n",
      "760     2    88    58    26    16  28.4  0.766   22\n",
      "761     9   170    74    31     0  44.0  0.403   43\n",
      "762     9    89    62     0     0  22.5  0.142   33\n",
      "763    10   101    76    48   180  32.9  0.171   63\n",
      "764     2   122    70    27     0  36.8  0.340   27\n",
      "765     5   121    72    23   112  26.2  0.245   30\n",
      "766     1   126    60     0     0  30.1  0.349   47\n",
      "767     1    93    70    31     0  30.4  0.315   23\n",
      "\n",
      "[768 rows x 8 columns]\n"
     ]
    }
   ],
   "source": [
    "#Cria dicionário e mapa para meses\n",
    "#d = {'jan': 1, 'feb': 2, 'mar': 3, 'apr': 4, 'may': 5, 'jun': 6, 'jul': 7, 'aug': 8, 'sep': 9, 'oct': 10, 'nov': 11,\n",
    "#     'dec': 12}\n",
    "#attributes['month'] = attributes['month'].map(d).astype(int)\n",
    "\n",
    "#Cria atributos \"dummies\" para as colunas que não são numericas no conjunto de dados\n",
    "new_attributes = pd.get_dummies(attributes)\n",
    "print(new_attributes)"
   ]
  },
  {
   "cell_type": "code",
   "execution_count": 5,
   "metadata": {},
   "outputs": [],
   "source": [
    "# Dividir os dados aleatoriamente em conjunto para aprendizado e conjunto para testes\n",
    "from sklearn.model_selection import train_test_split\n",
    "X_train, X_test, y_train, y_test = train_test_split(new_attributes, classes, test_size=0.20) \n",
    "#20% do tamanho do arquivo será usado para testes\n",
    "# X_train: segmento dos atributos para treinamento do modelo\n",
    "# X_test : segmento dos atributos para avaliação do modelo\n",
    "# y_train: segmento das classes para treinamento do modelo\n",
    "# y_testn: segmento das classes para avaliação do modelo"
   ]
  },
  {
   "cell_type": "code",
   "execution_count": 6,
   "metadata": {},
   "outputs": [
    {
     "name": "stderr",
     "output_type": "stream",
     "text": [
      "C:\\Users\\rudso\\Anaconda3\\lib\\site-packages\\sklearn\\ensemble\\forest.py:246: FutureWarning: The default value of n_estimators will change from 10 in version 0.20 to 100 in 0.22.\n",
      "  \"10 in version 0.20 to 100 in 0.22.\", FutureWarning)\n"
     ]
    },
    {
     "data": {
      "text/plain": [
       "RandomForestClassifier(bootstrap=True, class_weight=None, criterion='gini',\n",
       "            max_depth=None, max_features='auto', max_leaf_nodes=None,\n",
       "            min_impurity_decrease=0.0, min_impurity_split=None,\n",
       "            min_samples_leaf=1, min_samples_split=2,\n",
       "            min_weight_fraction_leaf=0.0, n_estimators=10, n_jobs=None,\n",
       "            oob_score=False, random_state=None, verbose=0,\n",
       "            warm_start=False)"
      ]
     },
     "execution_count": 6,
     "metadata": {},
     "output_type": "execute_result"
    }
   ],
   "source": [
    "#Treinar o modelo\n",
    "from sklearn.ensemble import RandomForestClassifier\n",
    "classifier = RandomForestClassifier()\n",
    "classifier.fit(X_train, y_train)"
   ]
  },
  {
   "cell_type": "code",
   "execution_count": 7,
   "metadata": {},
   "outputs": [
    {
     "name": "stdout",
     "output_type": "stream",
     "text": [
      "['tested_negative' 'tested_negative' 'tested_negative' 'tested_negative'\n",
      " 'tested_negative' 'tested_positive' 'tested_positive' 'tested_positive'\n",
      " 'tested_negative' 'tested_positive' 'tested_negative' 'tested_negative'\n",
      " 'tested_negative' 'tested_negative' 'tested_negative' 'tested_positive'\n",
      " 'tested_negative' 'tested_negative' 'tested_negative' 'tested_positive'\n",
      " 'tested_negative' 'tested_negative' 'tested_negative' 'tested_negative'\n",
      " 'tested_negative' 'tested_negative' 'tested_negative' 'tested_negative'\n",
      " 'tested_negative' 'tested_negative' 'tested_negative' 'tested_negative'\n",
      " 'tested_negative' 'tested_negative' 'tested_positive' 'tested_negative'\n",
      " 'tested_negative' 'tested_negative' 'tested_positive' 'tested_negative'\n",
      " 'tested_positive' 'tested_negative' 'tested_positive' 'tested_positive'\n",
      " 'tested_negative' 'tested_negative' 'tested_negative' 'tested_negative'\n",
      " 'tested_negative' 'tested_positive' 'tested_negative' 'tested_positive'\n",
      " 'tested_positive' 'tested_negative' 'tested_positive' 'tested_positive'\n",
      " 'tested_negative' 'tested_negative' 'tested_positive' 'tested_negative'\n",
      " 'tested_positive' 'tested_negative' 'tested_positive' 'tested_positive'\n",
      " 'tested_negative' 'tested_positive' 'tested_negative' 'tested_negative'\n",
      " 'tested_negative' 'tested_positive' 'tested_positive' 'tested_negative'\n",
      " 'tested_negative' 'tested_negative' 'tested_negative' 'tested_negative'\n",
      " 'tested_negative' 'tested_negative' 'tested_negative' 'tested_positive'\n",
      " 'tested_negative' 'tested_negative' 'tested_negative' 'tested_positive'\n",
      " 'tested_negative' 'tested_negative' 'tested_negative' 'tested_negative'\n",
      " 'tested_positive' 'tested_negative' 'tested_positive' 'tested_negative'\n",
      " 'tested_negative' 'tested_negative' 'tested_negative' 'tested_negative'\n",
      " 'tested_negative' 'tested_negative' 'tested_negative' 'tested_positive'\n",
      " 'tested_negative' 'tested_negative' 'tested_positive' 'tested_negative'\n",
      " 'tested_negative' 'tested_negative' 'tested_negative' 'tested_positive'\n",
      " 'tested_positive' 'tested_negative' 'tested_negative' 'tested_negative'\n",
      " 'tested_positive' 'tested_negative' 'tested_negative' 'tested_negative'\n",
      " 'tested_positive' 'tested_positive' 'tested_negative' 'tested_negative'\n",
      " 'tested_negative' 'tested_negative' 'tested_negative' 'tested_negative'\n",
      " 'tested_negative' 'tested_positive' 'tested_negative' 'tested_negative'\n",
      " 'tested_positive' 'tested_negative' 'tested_negative' 'tested_negative'\n",
      " 'tested_negative' 'tested_negative' 'tested_positive' 'tested_negative'\n",
      " 'tested_positive' 'tested_positive' 'tested_negative' 'tested_positive'\n",
      " 'tested_negative' 'tested_negative' 'tested_positive' 'tested_negative'\n",
      " 'tested_negative' 'tested_negative' 'tested_negative' 'tested_negative'\n",
      " 'tested_negative' 'tested_negative' 'tested_negative' 'tested_positive'\n",
      " 'tested_negative' 'tested_positive']\n"
     ]
    }
   ],
   "source": [
    "#Aplicar o modelo gerado sobre os dados separados para testes\n",
    "y_pred = classifier.predict(X_test)\n",
    "\n",
    "print(y_pred)"
   ]
  },
  {
   "cell_type": "code",
   "execution_count": 8,
   "metadata": {},
   "outputs": [
    {
     "name": "stdout",
     "output_type": "stream",
     "text": [
      "Resultado da Avaliação do Modelo\n",
      "[[84 16]\n",
      " [27 27]]\n",
      "                 precision    recall  f1-score   support\n",
      "\n",
      "tested_negative       0.76      0.84      0.80       100\n",
      "tested_positive       0.63      0.50      0.56        54\n",
      "\n",
      "      micro avg       0.72      0.72      0.72       154\n",
      "      macro avg       0.69      0.67      0.68       154\n",
      "   weighted avg       0.71      0.72      0.71       154\n",
      "\n"
     ]
    }
   ],
   "source": [
    "#Avaliar o modelo: Acurácia e matriz de contingência\n",
    "from sklearn.metrics import classification_report, confusion_matrix\n",
    "print(\"Resultado da Avaliação do Modelo\")\n",
    "print(confusion_matrix(y_test, y_pred))\n",
    "print(classification_report(y_test, y_pred))"
   ]
  },
  {
   "cell_type": "code",
   "execution_count": 32,
   "metadata": {},
   "outputs": [
    {
     "name": "stdout",
     "output_type": "stream",
     "text": [
      "Classificar [5, 177, 72, 11, 500, 37.6, 0.256, 47]\n",
      "['tested_positive']\n"
     ]
    }
   ],
   "source": [
    "#Classificar uma nova instância\n",
    "print(\"Classificar [5, 177, 72, 11, 500, 37.6, 0.256, 47]\")\n",
    "nova_instancia=[[5, 177, 72, 11, 500, 37.6, 0.256, 47]]\n",
    "print(classifier.predict(nova_instancia))"
   ]
  },
  {
   "cell_type": "code",
   "execution_count": 9,
   "metadata": {},
   "outputs": [
    {
     "data": {
      "text/plain": [
       "['random_forest_diabetes.joblib']"
      ]
     },
     "execution_count": 9,
     "metadata": {},
     "output_type": "execute_result"
    }
   ],
   "source": [
    "#Salvar o modelo para uso posterior\n",
    "joblib.dump(classifier, 'random_forest_diabetes.joblib')"
   ]
  },
  {
   "cell_type": "code",
   "execution_count": 48,
   "metadata": {},
   "outputs": [
    {
     "name": "stdout",
     "output_type": "stream",
     "text": [
      "Com o modelo salvo: \n",
      "Classificar [5, 177, 72, 11, 500, 37.6, 0.256, 47]\n",
      "Predict\n",
      "['tested_positive']\n",
      "Proba\n",
      "[[0. 1.]]\n"
     ]
    }
   ],
   "source": [
    "classifier = joblib.load('regr_logist_diabetes.joblib')\n",
    "nova_instancia=[[5, 177, 72, 11, 500, 37.6, 0.256, 47]]\n",
    "print(\"Com o modelo salvo: \")\n",
    "print(\"Classificar [5, 177, 72, 11, 500, 37.6, 0.256, 47]\")\n",
    "print(\"Predict\")\n",
    "print(classifier.predict(nova_instancia))\n",
    "print(\"Proba\")\n",
    "print(classifier.predict_proba(nova_instancia))"
   ]
  },
  {
   "cell_type": "code",
   "execution_count": null,
   "metadata": {},
   "outputs": [],
   "source": [
    "### Análise\n",
    "\n",
    "Dos três modelos para análise da base de diabetes aquele com a melhor acurácia foi a regressão logística. \n",
    "O sucesso deste modelo pode estar associado a presença de muitas variáveis independentes com atributos contínuos."
   ]
  }
 ],
 "metadata": {
  "kernelspec": {
   "display_name": "Python 3",
   "language": "python",
   "name": "python3"
  },
  "language_info": {
   "codemirror_mode": {
    "name": "ipython",
    "version": 3
   },
   "file_extension": ".py",
   "mimetype": "text/x-python",
   "name": "python",
   "nbconvert_exporter": "python",
   "pygments_lexer": "ipython3",
   "version": "3.7.3"
  }
 },
 "nbformat": 4,
 "nbformat_minor": 2
}
